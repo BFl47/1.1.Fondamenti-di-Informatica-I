{
 "cells": [
  {
   "cell_type": "markdown",
   "metadata": {
    "slideshow": {
     "slide_type": "slide"
    }
   },
   "source": [
    "#### Autori: Domenico Lembo, Giuseppe Santucci and Marco Schaerf\n",
    "\n",
    "[Dipartimento di Ingegneria informatica, automatica e gestionale](https://www.diag.uniroma1.it)\n",
    "\n",
    "<img src=\"https://mirrors.creativecommons.org/presskit/buttons/88x31/png/by-nc-sa.eu.png\"\n",
    "     alt=\"License\"\n",
    "     style=\"float: left;\"\n",
    "     height=\"40\" width=\"100\" />\n",
    "This notebook is distributed with license Creative Commons *CC BY-NC-SA*"
   ]
  },
  {
   "cell_type": "markdown",
   "metadata": {},
   "source": [
    "# NumPy, Matplotlib ed altre utilities\n",
    "1. NumPy\n",
    "2. Il tipo array di NumPy\n",
    "3. Creazione di un array in NumPy\n",
    "4. Attributi della classe ndarray (array)\n",
    "5. Indicizzazione, slicing e iterazione\n",
    "6. Algebra lineare in NumPy\n",
    "7. Esercizi su matrici come NumPy array\n",
    "8. Matplotlib\n",
    "9. Altre funzioni e librerie\n",
    "10. Progetto finale"
   ]
  },
  {
   "cell_type": "markdown",
   "metadata": {},
   "source": [
    "### Numpy\n",
    "Questa lezione è basata sul tutorial [Quickstart](https://numpy.org/devdocs/user/quickstart.html) del sito ufficiale di [NumPy](https://numpy.org/) (in inglese).\n",
    "Per eseguire questo notebook dovete installare sul vostro computer il modulo numpy, istruzioni dettagliate sono disponibili [qui](https://scipy.org/install.html), comunque per la maggior parte delle installazioni dovete solo aprire una shell di comandi e dare il comando: `pip install numpy`.\n",
    "\n",
    "NumPy fa parte di un pacchetto di moduli Python per il calcolo scientifico, noi oltre NumPy vedremo, brevemente, anche [Matplotlib](https://matplotlib.org/)."
   ]
  },
  {
   "cell_type": "markdown",
   "metadata": {},
   "source": [
    "### Il tipo array di NumPy\n",
    "L'oggetto principale di NumPy è l'array multidimensionale **omogeneo**. È una tabella di elementi (solitamente numeri), tutti dello stesso tipo, indicizzati da una tupla di numeri interi non negativi. In NumPy le dimensioni sono chiamate assi.\n",
    "\n",
    "Ad esempio, le coordinate di un punto nello spazio \\[1, 2, 1\\] hanno un asse. Quell'asse contiene 3 elementi, quindi diciamo che ha una lunghezza di 3. Nell'esempio mostrato di seguito, l'array ha 2 assi. Il primo asse ha una lunghezza di 2, il secondo asse ha una lunghezza di 3.\n",
    "\n",
    "\\[\\[1., 0., 0.\\],\n",
    " \\[0., 1., 2.\\]\\]\n",
    " \n",
    "La classe di array di NumPy si chiama *ndarray*. È anche conosciuto con l'alias *array*. Notate che numpy.array non è uguale alla classe Standard Python Library array.array, che gestisce solo array monodimensionali e offre molte meno funzionalità.\n",
    "\n",
    "Per accedere ad un elemento di indici `i` e `j` di un array bidimensionale `m` si può usare la notazione delle liste di liste (cioé `m[i][j]`) oppure la notazione semplificata `m[i,j]`. Ovviamente, questa stessa notazione semplificata si può usare anche per array di dimensione superiore a 2.\n",
    "\n",
    "Un esempio:"
   ]
  },
  {
   "cell_type": "code",
   "execution_count": 4,
   "metadata": {},
   "outputs": [
    {
     "name": "stdout",
     "output_type": "stream",
     "text": [
      "[[1. 0. 0.]\n",
      " [0. 1. 2.]]\n",
      "0.0\n",
      "0.0\n"
     ]
    }
   ],
   "source": [
    "import numpy as np\n",
    "\n",
    "#Creiamo, ad esempio, un array 2x3 (cioè con 2 righe e 3 colonne)\n",
    "a = np.array([[1., 0., 0.],[0., 1., 2.]])\n",
    "print(a)\n",
    "\n",
    "#Stampiamo uno specifico elemento, ad esempio,\n",
    "#quello sulla riga 0 colonna 1\n",
    "print(a[0][1]) #notazione standard per liste di liste\n",
    "print(a[0,1]) #notazione semplificata di NumPy"
   ]
  },
  {
   "cell_type": "markdown",
   "metadata": {},
   "source": [
    "### Creazione di un array in NumPy\n",
    "Ci sono molti modi per creare un array in NumPy, si può direttamente creare un array fornendo tutti i dati, come visto sopra, si può trasformare una lista in array oppure si possono usare le molte funzioni di inizializzazione presenti in NumPy. **Notate che le dimensioni dell'array vanno fornite come tuple**, cioè scritte tra parentesi. \n",
    "\n",
    "La funzione *print()* applicata ad un oggetto di tipo array lo stampa automaticamente per righe, se è tridimensionale stampa un piano 2D per volta. Vediamo degli esempi:"
   ]
  },
  {
   "cell_type": "code",
   "execution_count": 3,
   "metadata": {},
   "outputs": [
    {
     "name": "stdout",
     "output_type": "stream",
     "text": [
      "[[1. 1. 1. 1.]\n",
      " [1. 1. 1. 1.]\n",
      " [1. 1. 1. 1.]]\n",
      "[[[0 0 0 0]\n",
      "  [0 0 0 0]\n",
      "  [0 0 0 0]]\n",
      "\n",
      " [[0 0 0 0]\n",
      "  [0 0 0 0]\n",
      "  [0 0 0 0]]]\n",
      "[[0.10944204 0.38262306]\n",
      " [0.84657221 0.29370295]]\n"
     ]
    }
   ],
   "source": [
    "# Crea un array 2D di uni con 3 righe e 4 colonne\n",
    "print(np.ones((3,4))) #La tupla (3,4) denota la dimensione dell'array\n",
    "\n",
    "# Crea un array 3D di zeri con dimensioni 2x3x4 ed ogni elemento di tipo intero (con segno) a 16 bit\n",
    "print(np.zeros((2,3,4),dtype=np.int16)) #notate la stampa fatta di 2 matrici 3x4\n",
    "\n",
    "# Crea un array 2D di valori casuali (random)\n",
    "print(np.random.random((2,2)))"
   ]
  },
  {
   "cell_type": "code",
   "execution_count": 4,
   "metadata": {},
   "outputs": [
    {
     "name": "stdout",
     "output_type": "stream",
     "text": [
      "[[0. 0.]\n",
      " [0. 0.]\n",
      " [0. 0.]]\n",
      "[[7 7]\n",
      " [7 7]]\n",
      "[10 15 20]\n",
      "[0.   0.25 0.5  0.75 1.   1.25 1.5  1.75 2.  ]\n"
     ]
    }
   ],
   "source": [
    "# Crea un array 2D vuoto\n",
    "print(np.empty((3,2)))\n",
    "\n",
    "# Crea un array 2D pieno con il valore 7 (tutti gli elementi valgono 7)\n",
    "print(np.full((2,2),7))\n",
    "\n",
    "# Crea un array 1D con i valori da 10 a 25 (escluso) con passo 5\n",
    "print(np.arange(10,25,5))\n",
    "\n",
    "# Crea un array 1D con 9 valori uniformemente spaziati tra 0 e 2 (inclusi)\n",
    "print(np.linspace(0,2,9))"
   ]
  },
  {
   "cell_type": "markdown",
   "metadata": {},
   "source": [
    "### Rappresentazione interna degli array ed i metodi `reshape()` e `flatten()`\n",
    "NumPy rappresenta in memoria gli array usando zone contigue di memoria. Di fatto, l'array viene rappresentato sempre **come un array monodimensionale**, dove le righe vengono scritte una dopo l'altra. Un array di dimensioni (3,4) ed un array di dimensioni (2,3,2) sono in realtà rappresentati in memoria entrambi come un array monodimensionale di 12 elementi. Per questo motivo, gli array possono essere facilmente cambiati di dimensioni, quando non cambia il numero di elemento complessivi, usando il metodo `reshape()`. Se vogliamo trasformare un array nella sua versione monodimensionale possiamo usare il metodo `flatten()`. Vediamo degli esempi:"
   ]
  },
  {
   "cell_type": "code",
   "execution_count": 5,
   "metadata": {},
   "outputs": [
    {
     "name": "stdout",
     "output_type": "stream",
     "text": [
      "[[0.18225127 0.49058228 0.16084472 0.17244706]\n",
      " [0.5352669  0.43645637 0.7517018  0.38174838]\n",
      " [0.78195138 0.94238043 0.84535116 0.31409819]]\n",
      "[[[0.18225127 0.49058228]\n",
      "  [0.16084472 0.17244706]\n",
      "  [0.5352669  0.43645637]]\n",
      "\n",
      " [[0.7517018  0.38174838]\n",
      "  [0.78195138 0.94238043]\n",
      "  [0.84535116 0.31409819]]]\n",
      "[0.18225127 0.49058228 0.16084472 0.17244706 0.5352669  0.43645637\n",
      " 0.7517018  0.38174838 0.78195138 0.94238043 0.84535116 0.31409819]\n"
     ]
    }
   ],
   "source": [
    "a = np.random.random((3,4))\n",
    "print(a)\n",
    "b = a.reshape((2,3,2))\n",
    "print(b)\n",
    "c = a.flatten()\n",
    "print(c)"
   ]
  },
  {
   "cell_type": "markdown",
   "metadata": {},
   "source": [
    "### Attributi, operatori e funzioni della classe ndarray (array)\n",
    "Gli *attributi* più importanti di un oggetto ndarray sono:\n",
    "- **ndim**: il numero di assi (dimensioni) dell'array.\n",
    "- **shape**: le dimensioni dell'array. Questa è una tupla di numeri interi che indica la dimensione dell'array rispetto a ciascun asse. Per una matrice con n righe e m colonne, la forma sarà (n, m). La lunghezza della tupla di shape è quindi il numero di assi.\n",
    "- **size**: il numero totale di elementi dell'array. Questo è uguale al prodotto degli elementi di shape.\n",
    "- **dtype**: un oggetto che descrive il tipo di elementi nella matrice. Si può creare o specificare i tipi usando i tipi standard di Python. Inoltre NumPy fornisce tipi propri: numpy.int32, numpy.int16 e numpy.float64 sono alcuni esempi.\n",
    "- **itemsize**: la dimensione in byte di ciascun elemento dell'array. Ad esempio, un array di elementi di tipo float64 ha itemsize 8 (= 64/8), mentre uno di tipo complex32 ha itemsize 4 (= 32/8). È equivalente a ndarray.dtype.itemsize.\n",
    "- **data**: il buffer contenente gli elementi effettivi dell'array. Normalmente, non è necessario utilizzare questo attributo perché accederemo agli elementi in un array utilizzando le funzionalità di indicizzazione."
   ]
  },
  {
   "cell_type": "code",
   "execution_count": 6,
   "metadata": {},
   "outputs": [
    {
     "name": "stdout",
     "output_type": "stream",
     "text": [
      "int32\n",
      "float64\n",
      "[[1.+0.j 2.+0.j]\n",
      " [3.+0.j 4.+0.j]]\n",
      "complex128\n"
     ]
    }
   ],
   "source": [
    "a = np.array ([2,3,4])\n",
    "print(a.dtype)\n",
    "b = np.array ([1.2, 3.5, 5.1])\n",
    "print(b.dtype)\n",
    "c = np.array([[1,2], [3,4]], dtype = complex)\n",
    "print(c)\n",
    "print(c.dtype)"
   ]
  },
  {
   "cell_type": "markdown",
   "metadata": {},
   "source": [
    "#### Operazioni di base\n",
    "Gli operatori aritmetici sugli array si applicano a tutti gli elementi. Di regola, un nuovo array viene creato e riempito con il risultato."
   ]
  },
  {
   "cell_type": "code",
   "execution_count": 8,
   "metadata": {},
   "outputs": [
    {
     "name": "stdout",
     "output_type": "stream",
     "text": [
      "[20 29 38 47]\n",
      "[0 1 4 9]\n",
      "[ 9.12945251 -9.88031624  7.4511316  -2.62374854]\n",
      "[20 30 40 50]\n",
      "[ True  True False False]\n"
     ]
    }
   ],
   "source": [
    "a = np.array ([20,30,40,50])\n",
    "b = np.arange (4)\n",
    "c = a-b\n",
    "#print(a)\n",
    "#print(b)\n",
    "print(c)\n",
    "print(b**2)\n",
    "print(10 * np.sin(a))\n",
    "print(a)\n",
    "print(a < 35)"
   ]
  },
  {
   "cell_type": "markdown",
   "metadata": {},
   "source": [
    "A differenza di molti linguaggi a matrice, l'operatore del prodotto * opera elemento per elemento negli array NumPy, cioè moltiplica gli elementi nella stessa posizione dei 2 arrays, che devono avere le stesse dimensioni. Il prodotto tra matrici può essere eseguito utilizzando l'operatore @ (in python> = 3.5) o il metodo dot()"
   ]
  },
  {
   "cell_type": "code",
   "execution_count": 9,
   "metadata": {},
   "outputs": [
    {
     "name": "stdout",
     "output_type": "stream",
     "text": [
      "[[2 0]\n",
      " [0 4]]\n",
      "[[5 4]\n",
      " [3 4]]\n",
      "[[5 4]\n",
      " [3 4]]\n"
     ]
    }
   ],
   "source": [
    "A = np.array([[1,1],[0,1]])\n",
    "B = np.array ([[2,0],[3,4]])\n",
    "print(A * B) # è il prodotto elemento per elemento\n",
    "print(A @ B) # è il prodotto tra matrici\n",
    "print(A.dot(B)) # un altro prodotto tra matrici"
   ]
  },
  {
   "cell_type": "markdown",
   "metadata": {},
   "source": [
    "Alcune operazioni, come += e \\*=, agiscono per modificare un array esistente anziché crearne uno nuovo."
   ]
  },
  {
   "cell_type": "code",
   "execution_count": 10,
   "metadata": {},
   "outputs": [
    {
     "name": "stdout",
     "output_type": "stream",
     "text": [
      "[[3 3 3]\n",
      " [3 3 3]]\n",
      "[[3.94416346 3.69333673 3.386844  ]\n",
      " [3.27967945 3.52715683 3.78360127]]\n"
     ]
    },
    {
     "ename": "UFuncTypeError",
     "evalue": "Cannot cast ufunc 'add' output from dtype('float64') to dtype('int32') with casting rule 'same_kind'",
     "output_type": "error",
     "traceback": [
      "\u001b[1;31m---------------------------------------------------------------------------\u001b[0m",
      "\u001b[1;31mUFuncTypeError\u001b[0m                            Traceback (most recent call last)",
      "\u001b[1;32m~\\AppData\\Local\\Temp/ipykernel_13720/2587252905.py\u001b[0m in \u001b[0;36m<module>\u001b[1;34m\u001b[0m\n\u001b[0;32m      6\u001b[0m \u001b[0mprint\u001b[0m\u001b[1;33m(\u001b[0m\u001b[0mb\u001b[0m\u001b[1;33m)\u001b[0m\u001b[1;33m\u001b[0m\u001b[1;33m\u001b[0m\u001b[0m\n\u001b[0;32m      7\u001b[0m \u001b[1;33m\u001b[0m\u001b[0m\n\u001b[1;32m----> 8\u001b[1;33m \u001b[0ma\u001b[0m \u001b[1;33m+=\u001b[0m \u001b[0mb\u001b[0m \u001b[1;31m# va in errore poiché b non viene convertito automaticamente in tipo intero\u001b[0m\u001b[1;33m\u001b[0m\u001b[1;33m\u001b[0m\u001b[0m\n\u001b[0m",
      "\u001b[1;31mUFuncTypeError\u001b[0m: Cannot cast ufunc 'add' output from dtype('float64') to dtype('int32') with casting rule 'same_kind'"
     ]
    }
   ],
   "source": [
    "a = np.ones((2,3), dtype = int)\n",
    "b = np.random.random((2,3))\n",
    "a *= 3\n",
    "print(a)\n",
    "b += a\n",
    "print(b)\n",
    "\n",
    "a += b # va in errore poiché b non viene convertito automaticamente in tipo intero"
   ]
  },
  {
   "cell_type": "markdown",
   "metadata": {},
   "source": [
    "Quando si lavora con array di tipi diversi, il tipo di array risultante corrisponde a quello più generale o preciso (un comportamento noto come upcasting). Se il tipo della variabile a cui lo assegniamo non è abbastanza generale si genera un errore, come sopra."
   ]
  },
  {
   "cell_type": "code",
   "execution_count": 17,
   "metadata": {},
   "outputs": [
    {
     "name": "stdout",
     "output_type": "stream",
     "text": [
      "float64\n",
      "[1 1 1]\n",
      "[1.         2.57079633 4.14159265]\n",
      "float64\n",
      "[0.+1.j         0.+2.57079633j 0.+4.14159265j]\n",
      "[ 0.54030231+0.84147098j -0.84147098+0.54030231j -0.54030231-0.84147098j]\n",
      "complex128\n"
     ]
    }
   ],
   "source": [
    "a = np.ones(3, dtype = np.int32)\n",
    "b = np.linspace(0, np.pi, 3)\n",
    "print(b.dtype)\n",
    "print(a)\n",
    "c = a + b\n",
    "print(c)\n",
    "print(c.dtype)\n",
    "\n",
    "print(c *1j)\n",
    "\n",
    "d = np.exp(c * 1j) #np.exp(a) calcola e^x per ogni valore x dell'array a in input\n",
    "print(d)\n",
    "print(d.dtype)"
   ]
  },
  {
   "cell_type": "markdown",
   "metadata": {},
   "source": [
    "Molte operazioni unarie, come calcolare la somma di tutti gli elementi dell'array, sono implementate come metodi della classe ndarray."
   ]
  },
  {
   "cell_type": "code",
   "execution_count": 12,
   "metadata": {},
   "outputs": [
    {
     "name": "stdout",
     "output_type": "stream",
     "text": [
      "[[0.3737197  0.34008172 0.69231968]\n",
      " [0.36250732 0.27805593 0.1202986 ]]\n",
      "[0.46603481 0.40825301 0.17412575 0.86443857 0.07734042 0.97756122\n",
      " 0.61714007 0.80302215 0.88866282 0.35681637]\n",
      "2.1669829506900693\n",
      "0.12029860114026258\n",
      "0.6923196781881822\n",
      "5\n",
      "4\n",
      "2\n",
      "5\n"
     ]
    }
   ],
   "source": [
    "a = np.random.random((2,3))\n",
    "print(a)\n",
    "b = np.random.random(10)\n",
    "print(b)\n",
    "\n",
    "\n",
    "print(a.sum())\n",
    "print(a.min())\n",
    "print(a.max())\n",
    "\n",
    "# per trovare l'indice in cui si trova il massimo (od il minimo) si può usare\n",
    "# la funzione (NON METODO) argmax (argmin). Se l'array è monodimensionale restituisce\n",
    "# l'indice, altrimenti restituisce l'indice dell'array flat (appiattito) in cui tutte\n",
    "# le righe sono messe di seguito. In caso di più elementi pari al massimo (o minimo) \n",
    "# argmax restituisce l'indice più piccolo fra tutti quelli \n",
    "print(np.argmax(b))\n",
    "print(np.argmin(b))\n",
    "\n",
    "print(np.argmax(a))\n",
    "print(np.argmin(a))"
   ]
  },
  {
   "cell_type": "markdown",
   "metadata": {},
   "source": [
    "Per impostazione predefinita, queste operazioni si applicano all'array come se fosse un elenco di numeri, indipendentemente dalla sua forma. Tuttavia, specificando il parametro axis è possibile applicare un'operazione lungo l'asse specificato di un array:"
   ]
  },
  {
   "cell_type": "code",
   "execution_count": 13,
   "metadata": {},
   "outputs": [
    {
     "name": "stdout",
     "output_type": "stream",
     "text": [
      "[[ 0  1  2  3]\n",
      " [ 4  5  6  7]\n",
      " [ 8  9 10 11]]\n",
      "[12 15 18 21]\n",
      "[0 4 8]\n",
      "[[ 0  1  3  6]\n",
      " [ 4  9 15 22]\n",
      " [ 8 17 27 38]]\n"
     ]
    }
   ],
   "source": [
    "b = np.arange(12).reshape(3,4)\n",
    "print(b)\n",
    "\n",
    "print(b.sum(axis = 0)) # somma di ogni colonna, restituisce un array con una dimensione in meno\n",
    "print(b.min(axis = 1)) # min di ogni riga, restituisce un array con una dimensione in meno\n",
    "print(b.cumsum(axis = 1)) # somma cumulativa lungo ogni riga"
   ]
  },
  {
   "cell_type": "markdown",
   "metadata": {},
   "source": [
    "#### Funzioni universali\n",
    "NumPy fornisce funzioni matematiche familiari come sin, cos ed exp. In NumPy, queste sono chiamate \"funzioni universali\" (ufunc). All'interno di NumPy, queste funzioni operano su un array elemento per elemento, producendo un array come output."
   ]
  },
  {
   "cell_type": "code",
   "execution_count": 14,
   "metadata": {},
   "outputs": [
    {
     "name": "stdout",
     "output_type": "stream",
     "text": [
      "[0 1 2]\n",
      "[1.         2.71828183 7.3890561 ]\n",
      "[0.         1.         1.41421356]\n",
      "[2. 0. 6.]\n"
     ]
    }
   ],
   "source": [
    "B = np.arange(3)\n",
    "print(B)\n",
    "\n",
    "print(np.exp(B))\n",
    "\n",
    "print(np.sqrt(B))\n",
    "\n",
    "C = np.array([2., -1., 4.])\n",
    "print(np.add(B, C))"
   ]
  },
  {
   "cell_type": "markdown",
   "metadata": {},
   "source": [
    "### Indicizzazione, slicing e iterazione\n",
    "Le matrici multidimensionali possono essere indicizzate, suddivise e ripetute, in modo simile alle liste e ad altre sequenze di Python, ma anche **contemporaneamente** su più assi usando la notazione semplificata. Attraverso lo slicing si può, ad esempio, estrarre una colonna della matrice od anche le colonne dispari. Vediamo alcuni esempi."
   ]
  },
  {
   "cell_type": "code",
   "execution_count": 15,
   "metadata": {},
   "outputs": [
    {
     "name": "stdout",
     "output_type": "stream",
     "text": [
      "[0 1 2 3 4 5 6 7 8]\n",
      "\n",
      "2\n",
      "\n",
      "[1 3 5 7]\n",
      "\n",
      "(9,)\n",
      "[8 7 6 5 4 3 2 1 0]\n",
      "\n",
      "#### consideriamo ora un caso a 2D ####\n",
      "\n",
      "[[ 0  1  2  3  4]\n",
      " [ 5  6  7  8  9]\n",
      " [10 11 12 13 14]\n",
      " [15 16 17 18 19]]\n",
      "\n",
      "l'elemento in posizione 2,3 è 13\n",
      "\n",
      "[[ 5  6  7  8  9]\n",
      " [15 16 17 18 19]]\n",
      "\n",
      "[[ 6  7  8]\n",
      " [11 12 13]]\n",
      "\n",
      "[[ 0  2  4]\n",
      " [ 5  7  9]\n",
      " [10 12 14]\n",
      " [15 17 19]]\n",
      "\n",
      "la dimenzione dell'array è (4, 1)\n",
      "il suo tipo è int32\n",
      "[[ 2]\n",
      " [ 7]\n",
      " [12]\n",
      " [17]]\n",
      "\n",
      "#### vediamo ora degli esempi di iterazioni ####\n",
      "\n",
      "0\n",
      "1\n",
      "4\n",
      "9\n",
      "16\n",
      "25\n",
      "36\n",
      "49\n",
      "64\n",
      "\n",
      "[ 0  1  4  9 16]\n",
      "[25 36 49 64 81]\n",
      "[100 121 144 169 196]\n",
      "[225 256 289 324 361]\n",
      "\n",
      "0\n",
      "1\n",
      "2\n",
      "3\n",
      "4\n",
      "5\n",
      "6\n",
      "7\n",
      "8\n",
      "9\n",
      "10\n",
      "11\n",
      "12\n",
      "13\n",
      "14\n",
      "15\n",
      "16\n",
      "17\n",
      "18\n",
      "19\n",
      "\n",
      "0\n",
      "1\n",
      "2\n",
      "3\n",
      "4\n",
      "5\n",
      "6\n",
      "7\n",
      "8\n",
      "9\n",
      "10\n",
      "11\n",
      "12\n",
      "13\n",
      "14\n",
      "15\n",
      "16\n",
      "17\n",
      "18\n",
      "19\n"
     ]
    }
   ],
   "source": [
    "b = np.arange(9) #crea array 1D di 12 elementi\n",
    "print(b)\n",
    "print()\n",
    "print(b[2]) # stampa l'elemento di indice 2\n",
    "print()\n",
    "print(b[1:8:2])\n",
    "print()\n",
    "\n",
    "d=b[::-1]\n",
    "\n",
    "print(d.shape)\n",
    "print(d)\n",
    "\n",
    "print('\\n#### consideriamo ora un caso a 2D ####\\n')\n",
    "\n",
    "\n",
    "c = np.arange(20).reshape(4,5) #crea array 4x5 da un array 1D di 20 elementi\n",
    "print(c)\n",
    "print()\n",
    "print('l\\'elemento in posizione 2,3 è',c[2,3]) # stampa l'elemento di indice 2, 3\n",
    "print()\n",
    "print(c[1:4:2,:]) #seleziona le righe 1 e 3 e tutte le colonne\n",
    "print()\n",
    "print(c[1:3,1:4]) #seleziona le righe 1 e 2 e le colonne 1, 2 e 3\n",
    "print()\n",
    "print(c[:,::2]) #seleziona le colonne pari\n",
    "print()\n",
    "\n",
    "d=c[:,2:3] #seleziona la colonna 2\n",
    "print('la dimenzione dell\\'array è', d.shape)\n",
    "print('il suo tipo è',d.dtype)\n",
    "print(d)\n",
    "\n",
    "print('\\n#### vediamo ora degli esempi di iterazioni ####\\n')\n",
    "\n",
    "for i in b:\n",
    "    print(i ** 2) # calcola il quadrato degli elementi di b e stampa ciascun valore su una riga diversa\n",
    "\n",
    "print()\n",
    "    \n",
    "for i in c:\n",
    "    print(i ** 2) # calcola, riga per riga, il quadrato degli elementi\n",
    "\n",
    "print()\n",
    "    \n",
    "for i in range(c.shape[0]):    # stampa ciascun valore di c su una riga diversa\n",
    "    for j in range(c.shape[1]):\n",
    "        print(c[i,j]) \n",
    "\n",
    "print()\n",
    "        \n",
    "for riga in c:    # versione alternativa che itera sugli elementi e non sugli indici\n",
    "    for elem in riga:\n",
    "        print(elem) \n"
   ]
  },
  {
   "cell_type": "markdown",
   "metadata": {},
   "source": [
    "#### Algebra lineare in NumPy\n",
    "NumPy ha molte operazioni di algebra lineare predefinite, in modo che si possono facilmente svolgere complessi calcoli matriciali. Vediamo solo alcuni semplici esempi:"
   ]
  },
  {
   "cell_type": "code",
   "execution_count": 16,
   "metadata": {},
   "outputs": [
    {
     "name": "stdout",
     "output_type": "stream",
     "text": [
      "[[1. 2.]\n",
      " [3. 4.]]\n",
      "\n",
      "[[1. 3.]\n",
      " [2. 4.]]\n",
      "\n",
      "[[-2.   1. ]\n",
      " [ 1.5 -0.5]]\n",
      "\n",
      "[[1. 0.]\n",
      " [0. 1.]]\n",
      "\n",
      "[[-1.  0.]\n",
      " [ 0. -1.]]\n",
      "\n",
      "[[-3.]\n",
      " [ 4.]]\n",
      "\n",
      "(array([0.+1.j, 0.-1.j]), array([[0.70710678+0.j        , 0.70710678-0.j        ],\n",
      "       [0.        -0.70710678j, 0.        +0.70710678j]]))\n"
     ]
    }
   ],
   "source": [
    "a = np.array([[1.0, 2.0], [3.0, 4.0]])\n",
    "print(a)\n",
    "\n",
    "print()\n",
    "\n",
    "print(a.transpose())\n",
    "\n",
    "print()\n",
    "\n",
    "print(np.linalg.inv(a)) # Inversa di a\n",
    "\n",
    "print()\n",
    "\n",
    "u = np.eye(2) # matrice identità 2x2; \"eye\" significa \"I\"\n",
    "print(u)\n",
    "\n",
    "print()\n",
    "\n",
    "j = np.array([[0.0, -1.0], [1.0, 0.0]])\n",
    "print(j @ j)        # matrice prodotto\n",
    "\n",
    "print()\n",
    "\n",
    "y = np.array([[5.], [7.]])\n",
    "print(np.linalg.solve(a, y)) # Trova il vettore x tale che y=a*x\n",
    "\n",
    "#print(a @ np.array([[-3.],[ 4.]])) verifica\n",
    "\n",
    "print()\n",
    "\n",
    "print(np.linalg.eig(j)) # trova gli autovalori e gli autovettori della matrice j\n",
    "                        # restituisce un array monodimensionale w contenente gli autovalori,\n",
    "                        # ed un array v contenente gli autovettori, tali che v[:,i] \n",
    "                        # è l'autovettore corrispondente all'autovalore w[i]."
   ]
  },
  {
   "cell_type": "markdown",
   "metadata": {},
   "source": [
    "### Esercizi su matrici come NumPy array\n",
    "Rivediamo tutti gli esercizi visti in precedenza nella rappresentazione come lista di liste, ma usando ora gli array di NumPy. Vediamo come molte delle operazioni diventano ora banali.\n",
    "1. Esercizio: Ricerca dell'elemento massimo: Funzione che prende in input una matrice e restituisce il valore massimo presente; assume che la matrice non sia vuota. \n",
    "2. Esercizio: Ricerca della riga a somma massima: Funzione che prende in input una matrice e restituisce l'indice della riga di somma massima presente; assume che la matrice non sia vuota e che nel caso ci siano più righe di somma massima la funzione restituisca la riga con indice minore.\n",
    "3. Esercizio: Somma di matrici (stessa dimensione).\n",
    "4. Esercizio: Prodotto di matrici (dimensioni compatibili)."
   ]
  },
  {
   "cell_type": "code",
   "execution_count": 18,
   "metadata": {},
   "outputs": [
    {
     "name": "stdout",
     "output_type": "stream",
     "text": [
      "[[0.38860597 0.69621504 0.58986187]\n",
      " [0.04590775 0.60998098 0.13411201]\n",
      " [0.69194111 0.83803967 0.73471593]\n",
      " [0.32967328 0.85399523 0.75338685]]\n",
      "\n",
      "[[0.96254722 0.76345789 0.19424806]\n",
      " [0.69805254 0.86726274 0.39379599]\n",
      " [0.86197624 0.10020082 0.69860349]\n",
      " [0.39682145 0.86870558 0.77865469]]\n",
      "\n",
      "[[0.60694399 0.35022882 0.20060721 0.81164063]\n",
      " [0.26033669 0.76791821 0.52805406 0.34245371]\n",
      " [0.89968562 0.77148567 0.67396547 0.06582959]]\n",
      "\n",
      "esercizio1:  0.8539952329519199\n",
      "[1.67468288 0.79000074 2.26469671 1.93705536]\n",
      "2\n",
      "[[1.35115319 1.45967293 0.78410994]\n",
      " [0.74396029 1.47724372 0.527908  ]\n",
      " [1.55391736 0.93824049 1.43331942]\n",
      " [0.72649473 1.72270081 1.53204153]]\n",
      "[[0.94780262 1.1258072  0.84314287 0.59266018]\n",
      " [0.30732251 0.58795921 0.42169922 0.25497938]\n",
      " [1.29915533 1.45270645 1.07651179 0.89696336]\n",
      " [1.10023082 1.35248673 1.0248472  0.60962521]]\n"
     ]
    }
   ],
   "source": [
    "# Creiamo 2 matrici 4x3 a e b ed una matrice c 3x4, tutte con numeri random\n",
    "a = np.random.random((4,3))\n",
    "b = np.random.random((4,3))\n",
    "c = np.random.random((3,4))\n",
    "print(a)\n",
    "print()\n",
    "print(b)\n",
    "print()\n",
    "print(c)\n",
    "print()\n",
    "\n",
    "# Esercizio 1: basta usare la funzione np.max()\n",
    "print('esercizio1: ',np.max(a))\n",
    "\n",
    "# Esercizio 2: Scansiona le righe e trova il massimo\n",
    "sommarighe = np.sum(a,axis=1) #calcolo il vettore somma delle righe\n",
    "print(sommarighe)\n",
    "print(np.argmax(sommarighe)) #restituisco l'indice dell'elemento massimo\n",
    "\n",
    "# Esercizio 3: basta usare l'operatore +\n",
    "print(a+b) # Il risultato ha le stesse dimensioni di a e b\n",
    "\n",
    "# Esercizio 4: basta usare l'operatore @\n",
    "print(a@c) # Poiché a è 4x3 e c 3x4 il risultato è un array 4x4"
   ]
  },
  {
   "cell_type": "markdown",
   "metadata": {},
   "source": [
    "#### Esercizio: calcolo del più grande punto di sella\n",
    "Scrivere una funzione che prende in input un array bidimensionale **a** e restituisce (se esiste) la tupla (i,j) della posizione del più grande punto di sella presente nell'array. Se non esiste deve restituire la tupla (-1,-1). Si definisce punto di sella (i,j) una posizione tale che a\\[i,j\\] è il minimo valore della riga i ed il massimo valore della colonna j o viceversa. Assumete, per semplicità, che ogni riga ed ogni colonna abbia uno ed un solo massimo e minimo."
   ]
  },
  {
   "cell_type": "code",
   "execution_count": 19,
   "metadata": {},
   "outputs": [
    {
     "name": "stdout",
     "output_type": "stream",
     "text": [
      "[[0.82591426 0.07110457 0.58385493 0.44834343 0.60480949]\n",
      " [0.84158454 0.12822977 0.65370486 0.25056151 0.98964561]\n",
      " [0.20491948 0.868956   0.78867353 0.23992012 0.00148328]\n",
      " [0.47131755 0.86182276 0.82322168 0.86193734 0.71122278]\n",
      " [0.66528172 0.10795118 0.18219399 0.77059685 0.88570968]] (-1, -1)\n",
      "[[ 1  2  0]\n",
      " [ 3  2 -2]] (0, 1)\n"
     ]
    }
   ],
   "source": [
    "import numpy as np\n",
    "\n",
    "def maxPuntoSella(a):\n",
    "    ris = (-1,-1) # per ora non ho trovato punti di sella\n",
    "    minrighe = np.argmin(a,axis=1) # Trova gli indici dei minimi per riga\n",
    "    maxrighe = np.argmax(a,axis=1) # Trova gli indici dei massimi per riga\n",
    "    mincol = np.argmin(a,axis=0) # Trova gli indici dei minimi per colonna\n",
    "    maxcol = np.argmax(a,axis=0) # Trova gli indici dei massimi per colonna\n",
    "    righe = len(minrighe) # numero di righe dell'array a\n",
    "    # un punto di sella (i,j) minimo sulle righe e massimo sulle colonne ha la proprietà che\n",
    "    # j = minrighe[i] e i = maxcol[j], la colonna j è la minima sulla riga i e la riga i\n",
    "    # è la massima nella colonna j. per l'altro tipo di punto di sella vale il simmetrico\n",
    "    for i in range(righe):\n",
    "        j = minrighe[i] # cerco punti di sella minriga-maxcol\n",
    "        if i == maxcol[j]: # Trovato un punto di sella minriga-maxcol\n",
    "            if ris == (-1,-1): # primo punto di sella trovato\n",
    "                ris = (i,j)\n",
    "            elif a[i,j] > a[ris]: # Trovato un nuovo punto di sella, più grande del massimo precedente\n",
    "                ris = (i,j)\n",
    "        j = maxrighe[i] # cerco punti di sella maxriga-mincol\n",
    "        if i == mincol[j]: # Trovato un punto di sella maxriga-mincol \n",
    "            if ris == (-1,-1): # primo punto di sella trovato\n",
    "                ris = (i,j)\n",
    "            elif a[i,j] > a[ris]: # Trovato un nuovo punto di sella, più grande del massimo precedente\n",
    "                ris = (i,j)\n",
    "    return ris\n",
    "\n",
    "a = np.random.random((5,5))\n",
    "print(a,maxPuntoSella(a))\n",
    "b = np.array([[1,2,0],[3,2,-2]])\n",
    "print(b,maxPuntoSella(b))"
   ]
  },
  {
   "cell_type": "markdown",
   "metadata": {},
   "source": [
    "### Matplotlib\n",
    "Questa lezione è basata sul [Pyplot tutorial](https://matplotlib.org/tutorials/introductory/pyplot.html#sphx-glr-tutorials-introductory-pyplot-py) del sito ufficiale di [Matplotlib](https://matplotlib.org/) (in inglese).\n",
    "Per eseguire questo notebook dovete installare sul vostro computer il modulo Matplotlib, istruzioni dettagliate sono disponibili [qui](https://matplotlib.org/users/installing.html).\n",
    "Di tutta la libreria Matplotlib, qui presenteremo solo il modulo pyplot, per informazioni sugli altri moduli rimandiamo al sito ufficiale di Matplotlib."
   ]
  },
  {
   "cell_type": "markdown",
   "metadata": {},
   "source": [
    "#### Introduzione a pyplot\n",
    "matplotlib.pyplot è una raccolta di funzioni in stile comando che fanno funzionare matplotlib come MATLAB. Ogni funzione pyplot apporta alcune modifiche a una figura: ad esempio, crea una figura, crea un'area di disegno in una figura, traccia alcune linee in un'area di disegno, decora la trama con etichette, ecc.\n",
    "\n",
    "In matplotlib.pyplot vari stati vengono conservati attraverso le chiamate di funzione, in modo da tenere traccia di informazioni, relative, ad esempio, a quale sia la figura corrente e l'area di disegno. Le funzioni di disegno sono dirette agli assi attuali (si noti che per \"assi\" qui ci si riferisce alla parte degli assi di una figura e non al termine matematico rigoroso).\n",
    "\n",
    "Per eseguire le funzioni di pyplot all'interno di un notebook dobbiamo specificare la modalità in cui farlo. La modalità più semplice è quella *inline*, cioè con immagini statiche generate all'interno del notebook. Per specificare questa modalità, **bisogna inserire il comando**:\n",
    "\n",
    "**%matplotlib inline**\n",
    "\n",
    "all'inizio della cella del nostro notebook.\n",
    "\n",
    "La generazione di visualizzazioni con pyplot è molto rapida:"
   ]
  },
  {
   "cell_type": "code",
   "execution_count": 7,
   "metadata": {},
   "outputs": [
    {
     "data": {
      "image/png": "[encoded data removed]",
      "text/plain": [
       "<Figure size 432x288 with 1 Axes>"
      ]
     },
     "metadata": {
      "needs_background": "light"
     },
     "output_type": "display_data"
    }
   ],
   "source": [
    "%matplotlib inline\n",
    "import matplotlib.pyplot as plt\n",
    "plt.plot([1, 2, 3, 4])\n",
    "plt.ylabel('prima funzione')\n",
    "plt.show()"
   ]
  },
  {
   "cell_type": "markdown",
   "metadata": {},
   "source": [
    "Forse ti starai chiedendo perché l'asse x va da 0 a 3 e l'asse y da 1 a 4. Se fornisci un singolo elenco o array al comando `plot()`, matplotlib presume che sia una sequenza di valori y e genera automaticamente i valori x per te. Poiché gli intervalli di Python iniziano con 0, il vettore x predefinito ha la stessa lunghezza di y ma inizia con 0. Quindi i valori di x sono \\[0,1,2,3\\].\n",
    "\n",
    "`plot()` è un comando versatile e può prendere un numero arbitrario di argomenti. Ad esempio, per tracciare la y in funzione della x si può usare il comando:"
   ]
  },
  {
   "cell_type": "code",
   "execution_count": 8,
   "metadata": {},
   "outputs": [
    {
     "data": {
      "text/plain": [
       "[<matplotlib.lines.Line2D at 0x238fa3e0610>]"
      ]
     },
     "execution_count": 8,
     "metadata": {},
     "output_type": "execute_result"
    },
    {
     "data": {
      "image/png": "[encoded data removed]",
      "text/plain": [
       "<Figure size 432x288 with 1 Axes>"
      ]
     },
     "metadata": {
      "needs_background": "light"
     },
     "output_type": "display_data"
    }
   ],
   "source": [
    "plt.plot([1, 2, 3, 4], [1, 4, 9, 16])"
   ]
  },
  {
   "cell_type": "markdown",
   "metadata": {},
   "source": [
    "#### Scelta dello stile del grafico\n",
    "Per ogni coppia di argomenti x ed y, esiste un terzo argomento facoltativo che è la stringa di formato che indica il colore e il tipo di linea del grafico. Le lettere e i simboli della stringa di formato provengono da MATLAB e si concatena una stringa di colore con una stringa di stile linea. La stringa di formato predefinita è 'b-', che è una linea blu continua. Ad esempio, per tracciare quanto sopra con cerchi rossi, devi scrivere"
   ]
  },
  {
   "cell_type": "code",
   "execution_count": 9,
   "metadata": {},
   "outputs": [
    {
     "data": {
      "image/png": "[encoded data removed]",
      "text/plain": [
       "<Figure size 432x288 with 1 Axes>"
      ]
     },
     "metadata": {
      "needs_background": "light"
     },
     "output_type": "display_data"
    }
   ],
   "source": [
    "plt.plot([1, 2, 3, 4], [1, 4, 9, 16], 'ro')\n",
    "plt.axis([0, 6, 0, 20])\n",
    "plt.show()"
   ]
  },
  {
   "cell_type": "markdown",
   "metadata": {},
   "source": [
    "Vedere la documentazione di `plot()` per un elenco completo di stili di linea e stringhe di formato. Il comando `axis()` nell'esempio precedente prende un elenco di \\[xmin, xmax, ymin, ymax\\] e specifica la dimensione degli assi.\n",
    "\n",
    "Se matplotlib fosse limitato a lavorare con le liste, sarebbe abbastanza inefficiente per l'elaborazione numerica. In genere, utilizzerai array NumPy. In effetti, tutte le sequenze vengono convertite internamente in array NumPy. L'esempio seguente mostra un grafico di più linee con diversi stili di formato usando array, abbiamo anche messo un'etichetta per l'asse x ed una per l'asse y."
   ]
  },
  {
   "cell_type": "code",
   "execution_count": 10,
   "metadata": {},
   "outputs": [
    {
     "data": {
      "image/png": "[encoded data removed]",
      "text/plain": [
       "<Figure size 432x288 with 1 Axes>"
      ]
     },
     "metadata": {
      "needs_background": "light"
     },
     "output_type": "display_data"
    }
   ],
   "source": [
    "import numpy as np\n",
    "\n",
    "# valori equamente spaziati ad intervalli di 200ms\n",
    "x = np.arange(0., 5., 0.2)\n",
    "\n",
    "# rosso tratteggiato per y = x, quadrati blu per y = x^2 e triangoli verdi per y = x^3\n",
    "plt.plot(x, x, 'r--', x, x**2, 'bs', x, x**3, 'g^')\n",
    "plt.xlabel('asse x') # scritta per l'asse x\n",
    "plt.ylabel('asse y') # scritta per l'asse y\n",
    "plt.show()"
   ]
  },
  {
   "cell_type": "markdown",
   "metadata": {},
   "source": [
    "#### Grafico funzioni\n",
    "In generale, se volete disegnare il grafico di una funzione definita da operazioni complicate, la cosa migliore è di definire la funzione *f* come una funzione Python usando gli operatori di NumPy e poi passargli l'array dei valori delle x per ottenere l'array dei valori delle y. Vediamo ad esempio come procedere se vogliamo disegnare la funzione\n",
    "\n",
    "$$f(x) = e^{-x} cos(2{\\pi}x)$$"
   ]
  },
  {
   "cell_type": "code",
   "execution_count": 19,
   "metadata": {},
   "outputs": [
    {
     "data": {
      "image/png": "[encoded data removed]",
      "text/plain": [
       "<Figure size 432x288 with 1 Axes>"
      ]
     },
     "metadata": {
      "needs_background": "light"
     },
     "output_type": "display_data"
    }
   ],
   "source": [
    "# Definiamo la funzione f\n",
    "def f(x):\n",
    "    return np.exp(-x) * np.cos(2*np.pi*x)\n",
    "\n",
    "# Ora creiamo l'insieme dei valori di x che ci interessano\n",
    "x = np.arange(0.0, 5.0, 0.02) # valori da 0 a 5 con passo 0.02\n",
    "\n",
    "plt.plot(x, f(x), 'k')\n",
    "plt.xlabel('asse x')\n",
    "plt.ylabel('asse y')\n",
    "plt.axis([0, 5, -1, 1])\n",
    "plt.show()"
   ]
  },
  {
   "cell_type": "markdown",
   "metadata": {},
   "source": [
    "#### Istogrammi\n",
    "Gli istogrammi sono un facile metodo per visualizzare la frequenza di ogni valore in una sequenza x. In generale, per ogni valore della x viene visualizzata una barra verticale di altezza uguale al numero di frequenze di quel valore. Quando i valori distinti della x sono molti può convenire raggrupparli in gruppi, chiamati *bins* in pyplot. Per disegnare istogrammi si può usare la funzione `plt.hist()`. Questa funzione ha moltissimi parametri ed utilizzi, per un dettaglio potete vedere la [documentazione](https://matplotlib.org/api/_as_gen/matplotlib.pyplot.hist.html?highlight=hist#matplotlib.pyplot.hist) (in inglese). vediamo 2 esempi, uno molto semplice con pochi valori distinti della x ed uno più compesso."
   ]
  },
  {
   "cell_type": "code",
   "execution_count": 12,
   "metadata": {},
   "outputs": [
    {
     "data": {
      "image/png": "[encoded data removed]",
      "text/plain": [
       "<Figure size 432x288 with 1 Axes>"
      ]
     },
     "metadata": {
      "needs_background": "light"
     },
     "output_type": "display_data"
    }
   ],
   "source": [
    "x = np.array([1, 0, 0, 1, 1, 2, 3, 2, 1, 0])\n",
    "\n",
    "plt.hist(x)\n",
    "\n",
    "plt.xlabel('valori della x')\n",
    "plt.ylabel('Numero di occorrenze')\n",
    "plt.title('Mio primo Istogramma')\n",
    "plt.grid(True) # disegna la griglia per render più leggibile l'istogramma\n",
    "plt.show()"
   ]
  },
  {
   "cell_type": "markdown",
   "metadata": {},
   "source": [
    "Vediamo ora un caso in cui vogliamo creare un istogramma dei valori di IQ nel mondo. Per fare questo generiamo 10000 valori casuali tra -1 ed 1 e poi li moltiplichiamo per la deviazione standard e sommiamo la media per avere valori casuali distribuiti intorno a 100 (valore medio mondiale). Poiché i valori distinti della x sono moltissimi, decidiamo di dividerli in 50 bins (che verranno calcolati automaticamente da pyplot)"
   ]
  },
  {
   "cell_type": "code",
   "execution_count": 14,
   "metadata": {},
   "outputs": [
    {
     "data": {
      "image/png": "[encoded data removed]",
      "text/plain": [
       "<Figure size 432x288 with 1 Axes>"
      ]
     },
     "metadata": {
      "needs_background": "light"
     },
     "output_type": "display_data"
    }
   ],
   "source": [
    "media = 100 # valore medio\n",
    "deviazione = 15 # deviazione standard\n",
    "x = media + deviazione * np.random.randn(10000)\n",
    "\n",
    "# istogramma di questi dati con 50 bins orizzontali, valori normalizzati in modo che\n",
    "# l'integrale complessivo del grafico sia 1 (appropriato per probabilità), di colore verde 'g'\n",
    "plt.hist(x, 50, density=1, facecolor='g')\n",
    "\n",
    "plt.xlabel('IQ')\n",
    "plt.ylabel('Probabilità')\n",
    "plt.title('Istogramma del IQ')\n",
    "plt.axis([40, 160, 0, 0.03])\n",
    "plt.grid(True) # disegna la griglia per rendere più leggibile l'istogramma\n",
    "plt.show()"
   ]
  },
  {
   "cell_type": "markdown",
   "metadata": {},
   "source": [
    "### Altre funzioni e librerie\n",
    "Python ha un numero molto elevato di altri moduli e librerie predefinite che sono a disposizione dei programmatori, quali ad esempio [SciPy](https://www.scipy.org/) per il calcolo scientifico, [Pandas](https://pandas.pydata.org/) per l'analisi dei dati, [Keras](https://keras.io/), [TensorFlow](https://www.tensorflow.org/) e [PyTorch](https://pytorch.org/) per il cosiddetto *deep learning* e molte altre. Qui ora mostriamo solo alcune funzionalità della libreria *IPython.display* che saranno utili per lo sviluppo del progetto finale che descriveremo a breve."
   ]
  },
  {
   "cell_type": "markdown",
   "metadata": {},
   "source": [
    "#### Caricare, visualizzare e cancellare immagini\n",
    "La libreria IPython.display ci mette a disposizione 3 funzioni per le immagini che ci saranno utili, cioè le funzioni *Image*, *display* e *clear_output*. Il loro comportamento è il seguente:\n",
    "- La funzione `Image(url)` carica un immagine da un indirizzo web (url) e restituisce un oggetto di tipo image\n",
    "- La funzione `display(image)` visualizza sullo schermo un oggetto di tipo image\n",
    "- la funzione `clear_output()` cancella quanto visualizzato dalla cella.\n",
    "\n",
    "Vediamo un semplice esempio:"
   ]
  },
  {
   "cell_type": "code",
   "execution_count": 15,
   "metadata": {},
   "outputs": [
    {
     "name": "stdout",
     "output_type": "stream",
     "text": [
      "<IPython.core.display.Image object>\n"
     ]
    },
    {
     "data": {
      "image/jpeg": "[encoded data removed]",
      "text/plain": [
       "<IPython.core.display.Image object>"
      ]
     },
     "metadata": {},
     "output_type": "display_data"
    },
    {
     "ename": "KeyboardInterrupt",
     "evalue": "Interrupted by user",
     "output_type": "error",
     "traceback": [
      "\u001b[1;31m---------------------------------------------------------------------------\u001b[0m",
      "\u001b[1;31mKeyboardInterrupt\u001b[0m                         Traceback (most recent call last)",
      "\u001b[1;32m~\\AppData\\Local\\Temp/ipykernel_8832/4217372051.py\u001b[0m in \u001b[0;36m<module>\u001b[1;34m\u001b[0m\n\u001b[0;32m      9\u001b[0m \u001b[1;33m\u001b[0m\u001b[0m\n\u001b[0;32m     10\u001b[0m \u001b[0mdisplay\u001b[0m\u001b[1;33m(\u001b[0m\u001b[0mimage1\u001b[0m\u001b[1;33m)\u001b[0m \u001b[1;31m# visualizza image1\u001b[0m\u001b[1;33m\u001b[0m\u001b[1;33m\u001b[0m\u001b[0m\n\u001b[1;32m---> 11\u001b[1;33m \u001b[0minput\u001b[0m\u001b[1;33m(\u001b[0m\u001b[1;33m)\u001b[0m \u001b[1;31m# il programma aspetta un invio ('enter') prima di andare avanti\u001b[0m\u001b[1;33m\u001b[0m\u001b[1;33m\u001b[0m\u001b[0m\n\u001b[0m\u001b[0;32m     12\u001b[0m \u001b[0mclear_output\u001b[0m\u001b[1;33m(\u001b[0m\u001b[1;33m)\u001b[0m \u001b[1;31m# cancella output\u001b[0m\u001b[1;33m\u001b[0m\u001b[1;33m\u001b[0m\u001b[0m\n\u001b[0;32m     13\u001b[0m \u001b[0minput\u001b[0m\u001b[1;33m(\u001b[0m\u001b[1;33m)\u001b[0m \u001b[1;31m# il programma aspetta un invio ('enter') prima di andare avanti\u001b[0m\u001b[1;33m\u001b[0m\u001b[1;33m\u001b[0m\u001b[0m\n",
      "\u001b[1;32m~\\AppData\\Local\\Programs\\Python\\Python39\\lib\\site-packages\\ipykernel\\kernelbase.py\u001b[0m in \u001b[0;36mraw_input\u001b[1;34m(self, prompt)\u001b[0m\n\u001b[0;32m   1004\u001b[0m                 \u001b[1;34m\"raw_input was called, but this frontend does not support input requests.\"\u001b[0m\u001b[1;33m\u001b[0m\u001b[1;33m\u001b[0m\u001b[0m\n\u001b[0;32m   1005\u001b[0m             )\n\u001b[1;32m-> 1006\u001b[1;33m         return self._input_request(\n\u001b[0m\u001b[0;32m   1007\u001b[0m             \u001b[0mstr\u001b[0m\u001b[1;33m(\u001b[0m\u001b[0mprompt\u001b[0m\u001b[1;33m)\u001b[0m\u001b[1;33m,\u001b[0m\u001b[1;33m\u001b[0m\u001b[1;33m\u001b[0m\u001b[0m\n\u001b[0;32m   1008\u001b[0m             \u001b[0mself\u001b[0m\u001b[1;33m.\u001b[0m\u001b[0m_parent_ident\u001b[0m\u001b[1;33m[\u001b[0m\u001b[1;34m\"shell\"\u001b[0m\u001b[1;33m]\u001b[0m\u001b[1;33m,\u001b[0m\u001b[1;33m\u001b[0m\u001b[1;33m\u001b[0m\u001b[0m\n",
      "\u001b[1;32m~\\AppData\\Local\\Programs\\Python\\Python39\\lib\\site-packages\\ipykernel\\kernelbase.py\u001b[0m in \u001b[0;36m_input_request\u001b[1;34m(self, prompt, ident, parent, password)\u001b[0m\n\u001b[0;32m   1049\u001b[0m             \u001b[1;32mexcept\u001b[0m \u001b[0mKeyboardInterrupt\u001b[0m\u001b[1;33m:\u001b[0m\u001b[1;33m\u001b[0m\u001b[1;33m\u001b[0m\u001b[0m\n\u001b[0;32m   1050\u001b[0m                 \u001b[1;31m# re-raise KeyboardInterrupt, to truncate traceback\u001b[0m\u001b[1;33m\u001b[0m\u001b[1;33m\u001b[0m\u001b[0m\n\u001b[1;32m-> 1051\u001b[1;33m                 \u001b[1;32mraise\u001b[0m \u001b[0mKeyboardInterrupt\u001b[0m\u001b[1;33m(\u001b[0m\u001b[1;34m\"Interrupted by user\"\u001b[0m\u001b[1;33m)\u001b[0m \u001b[1;32mfrom\u001b[0m \u001b[1;32mNone\u001b[0m\u001b[1;33m\u001b[0m\u001b[1;33m\u001b[0m\u001b[0m\n\u001b[0m\u001b[0;32m   1052\u001b[0m             \u001b[1;32mexcept\u001b[0m \u001b[0mException\u001b[0m\u001b[1;33m:\u001b[0m\u001b[1;33m\u001b[0m\u001b[1;33m\u001b[0m\u001b[0m\n\u001b[0;32m   1053\u001b[0m                 \u001b[0mself\u001b[0m\u001b[1;33m.\u001b[0m\u001b[0mlog\u001b[0m\u001b[1;33m.\u001b[0m\u001b[0mwarning\u001b[0m\u001b[1;33m(\u001b[0m\u001b[1;34m\"Invalid Message:\"\u001b[0m\u001b[1;33m,\u001b[0m \u001b[0mexc_info\u001b[0m\u001b[1;33m=\u001b[0m\u001b[1;32mTrue\u001b[0m\u001b[1;33m)\u001b[0m\u001b[1;33m\u001b[0m\u001b[1;33m\u001b[0m\u001b[0m\n",
      "\u001b[1;31mKeyboardInterrupt\u001b[0m: Interrupted by user"
     ]
    }
   ],
   "source": [
    "from IPython.display import display, Image, clear_output\n",
    "\n",
    "url1 = \"https://upload.wikimedia.org/wikipedia/commons/thumb/c/c9/Interno_del_Colosseo.jpg/281px-Interno_del_Colosseo.jpg\"\n",
    "url2 = \"https://upload.wikimedia.org/wikipedia/commons/thumb/d/d8/Colosseum_in_Rome-April_2007-1-_copie_2B.jpg/390px-Colosseum_in_Rome-April_2007-1-_copie_2B.jpg\"\n",
    "\n",
    "image1 = Image(url1) # carica l'immagine alla url1 nell'oggetto image1\n",
    "print(image1)\n",
    "image2 = Image(url2) # carica l'immagine alla url2 nell'oggetto image2\n",
    "\n",
    "display(image1) # visualizza image1\n",
    "input() # il programma aspetta un invio ('enter') prima di andare avanti\n",
    "clear_output() # cancella output\n",
    "input() # il programma aspetta un invio ('enter') prima di andare avanti\n",
    "display(image2) # visualizza image2\n",
    "input() # il programma aspetta un invio ('enter') prima di andare avanti\n",
    "clear_output() # cancella output e termina\n"
   ]
  },
  {
   "cell_type": "markdown",
   "metadata": {},
   "source": [
    "### Progetto finale\n",
    "Sviluppiamo insieme un progetto finale che sfrutta quello che abbiamo imparato nel corso. Il progetto consiste nello sviluppare un piccolo gioco che propone immagini e chiede di indovinare la città e l'attrazione rappresentata nella foto. Il gioco lo sviluppiamo nel prossimo (ed ultimo) notebook di questo corso."
   ]
  }
 ],
 "metadata": {
  "kernelspec": {
   "display_name": "Python 3 (ipykernel)",
   "language": "python",
   "name": "python3"
  },
  "language_info": {
   "codemirror_mode": {
    "name": "ipython",
    "version": 3
   },
   "file_extension": ".py",
   "mimetype": "text/x-python",
   "name": "python",
   "nbconvert_exporter": "python",
   "pygments_lexer": "ipython3",
   "version": "3.9.7"
  }
 },
 "nbformat": 4,
 "nbformat_minor": 4
}
