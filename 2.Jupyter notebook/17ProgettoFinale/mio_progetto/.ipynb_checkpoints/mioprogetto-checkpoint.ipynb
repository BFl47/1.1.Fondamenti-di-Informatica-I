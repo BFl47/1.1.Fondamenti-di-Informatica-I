{
 "cells": [
  {
   "cell_type": "markdown",
   "id": "0ab6347f",
   "metadata": {},
   "source": [
    "# Trivia - progetto finale\n"
   ]
  },
  {
   "cell_type": "code",
   "execution_count": 1,
   "id": "9dd08bb3",
   "metadata": {},
   "outputs": [],
   "source": [
    "#creazione strutture dati\n",
    "def creaStruttureDati(file):\n",
    "    \"\"\"Inserite qui di seguito il vostro codice. Dovete restituire\n",
    "    4 risultati, che sono in ordine:\n",
    "    1) lista delle città (lcitta)\n",
    "    2) lista delle Immagini (tutteImmagini)\n",
    "    3) dizionario delle attrazioni (attrazioni)\n",
    "    4) dizionario delle immagini (origini)\n",
    "    \"\"\"\n",
    "    \n",
    "    f=open(file,'r',encoding='UTF-8')\n",
    "    lcitta=[]\n",
    "    tutteImmagini=[]\n",
    "    attrazioni={}\n",
    "    origini={}\n",
    "    for riga in f:\n",
    "        riga=riga.strip().split(',')\n",
    "        citta=riga[0]\n",
    "        attrazione=riga[1]\n",
    "        immagine=riga[2]\n",
    "        if citta not in lcitta:\n",
    "            lcitta.append(citta)\n",
    "        tutteImmagini.append(immagine)\n",
    "        if citta in attrazioni and attrazione not in attrazioni[citta]:\n",
    "            attrazioni[citta].append(attrazione)\n",
    "            attrazioni[citta].sort()\n",
    "        elif citta not in attrazioni:\n",
    "            attrazioni[citta]=[attrazione]\n",
    "        if immagine not in origini:\n",
    "            origini[immagine]=(citta,attrazione)    \n",
    "    lcitta.sort()\n",
    "    tutteImmagini.sort()\n",
    "    return lcitta, tutteImmagini,attrazioni,origini"
   ]
  },
  {
   "cell_type": "code",
   "execution_count": 2,
   "id": "c52e28de",
   "metadata": {},
   "outputs": [],
   "source": [
    "lcitta, tutteImmagini, attrazioni, origini = creaStruttureDati('immagini.csv')"
   ]
  },
  {
   "cell_type": "code",
   "execution_count": 3,
   "id": "6d377f13",
   "metadata": {},
   "outputs": [],
   "source": [
    "#esecuzione gioco\n",
    "import numpy as np\n",
    "from IPython.display import display, Image, clear_output\n",
    "\n",
    "nonSo = \"Non so\" \n",
    "\n",
    "utente = input('Inserisci il tuo nome per iniziare: ') \n",
    "\n",
    "scelta = np.random.choice(tutteImmagini,10,replace=False)\n",
    "\n",
    "f = open('risposte.csv','a',encoding = 'UTF-8')\n",
    "\n",
    "print('scegliere città tra: ',lcitta)\n",
    "    \n",
    "for foto in scelta:\n",
    "    \"\"\" Cose da fare: \n",
    "    1) Caricare e mostrare l'immagine.\n",
    "    2) Chiedere all'utente di indovinare la città e poi l'attrazione.\n",
    "    3) Costruire la riga e poi scriverla nel file\n",
    "    4) Cancellare l'output prima di mostrare l'immagine successiva\n",
    "    \"\"\"\n",
    "    riga=''\n",
    "    for citta in lcitta:\n",
    "        print(citta,'=',lcitta.index(citta)+1)\n",
    "    image1=Image(foto)\n",
    "    display(image1)\n",
    "    c=input()\n",
    "    cittaCorretta=origini[foto][0]\n",
    "    attrazioneCorretta=origini[foto][1]\n",
    "    if c==nonSo:\n",
    "        riga=utente+','+cittaCorretta+','+foto+','+attrazioneCorretta+','+'Non so'+','+'Non so\\n'\n",
    "    else:\n",
    "        c=int(c)\n",
    "        cittaScelta=lcitta[c-1]\n",
    "        print('scegliere attrazione tra: ',attrazioni[cittaScelta])\n",
    "        for attrazione in attrazioni[cittaScelta]:\n",
    "            print(attrazione,'=',attrazioni[cittaScelta].index(attrazione)+1)\n",
    "        a=input()\n",
    "        if a==nonSo:\n",
    "            riga=utente+','+cittaCorretta+','+attrazioneCorretta+','+foto+','+cittaScelta+','+'Non so\\n'\n",
    "        else:\n",
    "            a=int(a)\n",
    "            attrazioneScelta=attrazioni[cittaScelta][a-1]\n",
    "            riga=utente+','+cittaCorretta+','+attrazioneCorretta+','+foto+','+cittaScelta+','+attrazioneScelta+'\\n'\n",
    "    \n",
    "    \n",
    "    f.write(riga) #riga=utente,cittàCorretta,attrazioneCorretta,indirizzoImmagine,cittàScelta,attrazioneScelta\n",
    "    clear_output()\n",
    "f.close()"
   ]
  },
  {
   "cell_type": "code",
   "execution_count": 4,
   "id": "65db77ac",
   "metadata": {},
   "outputs": [],
   "source": [
    "#matrice di confusione delle città\n",
    "import numpy as np\n",
    "\n",
    "def confusione(file,lcitta):\n",
    "    \"\"\" Costruite e restituite la matrice di confusione\n",
    "    \"\"\"\n",
    "    f=open(file,'r',encoding='UTF-8')\n",
    "    n=len(lcitta)\n",
    "    matConf=np.zeros((n,n+1),dtype=int)\n",
    "    \n",
    "    for riga in f:\n",
    "        riga=riga.strip().split(',') #riga=utente,cittàCorretta,attrazioneCorretta,indirizzoImmagine,cittàScelta,attrazioneScelta\n",
    "        cittaCorretta=riga[1]    \n",
    "        cittaScelta=riga[4]\n",
    "        if cittaScelta=='Non so':\n",
    "            i=lcitta.index(cittaCorretta)\n",
    "            matConf[i,n]+=1\n",
    "        else:\n",
    "            i=lcitta.index(cittaCorretta)\n",
    "            j=lcitta.index(cittaScelta)\n",
    "            matConf[i,j]+=1\n",
    "    \n",
    "    f.close()\n",
    "    \n",
    "    return matConf"
   ]
  },
  {
   "cell_type": "code",
   "execution_count": 5,
   "id": "230fab84",
   "metadata": {},
   "outputs": [
    {
     "name": "stdout",
     "output_type": "stream",
     "text": [
      "la matrice di confusione per le città: ['Dublino', 'Lisbona', 'Roma'] è:\n",
      "[[6 0 0 2]\n",
      " [2 6 1 0]\n",
      " [2 0 2 1]]\n"
     ]
    }
   ],
   "source": [
    "matConf = confusione('risposte.csv',lcitta)\n",
    "print('la matrice di confusione per le città:',lcitta,'è:')\n",
    "print(matConf)"
   ]
  },
  {
   "cell_type": "code",
   "execution_count": 6,
   "id": "09a451c6",
   "metadata": {},
   "outputs": [],
   "source": [
    "#istogramma città corrette per ogni esecuzione\n",
    "def cittaCorrette(file):\n",
    "    \"\"\"Costruite e restituite la lista del numero di risposte\n",
    "    corrette (sulla città) per ogni utente. La lista deve essere\n",
    "    ordinata in ordine crescente\n",
    "    \"\"\"\n",
    "    f=open(file,'r',encoding='UTF-8')\n",
    "    d={}\n",
    "    for riga in f:   \n",
    "        riga=riga.strip().split(',') #riga=utente,cittàCorretta,attrazioneCorretta,indirizzoImmagine,cittàScelta,attrazioneScelta       \n",
    "        utente=riga[0]\n",
    "        cittaCorretta=riga[1]\n",
    "        cittaScelta=riga[4]\n",
    "        if cittaCorretta==cittaScelta:\n",
    "            d[utente]=d.get(utente,0)+1\n",
    "        else:\n",
    "            d[utente]=d.get(utente,0)\n",
    "    l=list(d.values())    \n",
    "    l.sort()\n",
    "    return l"
   ]
  },
  {
   "cell_type": "code",
   "execution_count": 7,
   "id": "b1a7454b",
   "metadata": {},
   "outputs": [
    {
     "data": {
      "image/png": "[encoded data removed]",
      "text/plain": [
       "<Figure size 432x288 with 1 Axes>"
      ]
     },
     "metadata": {
      "needs_background": "light"
     },
     "output_type": "display_data"
    }
   ],
   "source": [
    "%matplotlib inline\n",
    "import matplotlib.pyplot as plt\n",
    "\n",
    "dati = cittaCorrette('risposte.csv')\n",
    "\n",
    "x=[]\n",
    "i=1\n",
    "for elem in dati:\n",
    "    while x.count(i)<elem:\n",
    "        x.append(i)\n",
    "    i+=1 \n",
    "\n",
    "\n",
    "plt.hist(x)\n",
    "plt.xlabel('n. esecuzioni')\n",
    "plt.ylabel('città corrette')\n",
    "plt.grid(True)\n",
    "plt.show()"
   ]
  },
  {
   "cell_type": "code",
   "execution_count": 8,
   "id": "37512e27",
   "metadata": {},
   "outputs": [],
   "source": [
    "#istogramma risposte città/attrazioni corrette per esecuzione\n",
    "def rispCorrette(file):\n",
    "    \"\"\"Costruite e restituite la lista del numero di risposte\n",
    "    corrette (sulla città e sull'attrazione) per ogni utente.\n",
    "    La lista deve essere ordinata in ordine crescente\n",
    "    \"\"\"\n",
    "    f=open(file,'r',encoding='UTF-8')\n",
    "    d={}\n",
    "    for riga in f:   \n",
    "        riga=riga.strip().split(',') #riga=utente,cittàCorretta,attrazioneCorretta,indirizzoImmagine,cittàScelta,attrazioneScelta       \n",
    "        utente=riga[0]\n",
    "        cittaCorretta=riga[1]\n",
    "        cittaScelta=riga[4]\n",
    "        attrCorretta=riga[2]\n",
    "        attrScelta=riga[5]\n",
    "        if cittaCorretta==cittaScelta and attrScelta==attrCorretta:\n",
    "            d[utente]=d.get(utente,0)+1\n",
    "        else:\n",
    "            d[utente]=d.get(utente,0)\n",
    "    l=list(d.values())    \n",
    "    l.sort()\n",
    "    return l"
   ]
  },
  {
   "cell_type": "code",
   "execution_count": 11,
   "id": "6e682431",
   "metadata": {},
   "outputs": [
    {
     "data": {
      "image/png": "[encoded data removed]",
      "text/plain": [
       "<Figure size 432x288 with 1 Axes>"
      ]
     },
     "metadata": {
      "needs_background": "light"
     },
     "output_type": "display_data"
    }
   ],
   "source": [
    "dati = rispCorrette('risposte.csv')\n",
    "\n",
    "x=[]\n",
    "i=1\n",
    "for elem in dati:\n",
    "    while x.count(i)<elem:\n",
    "        x.append(i)\n",
    "    i+=1 \n",
    "\n",
    "plt.hist(x)\n",
    "plt.xlabel('n. esecuzioni')\n",
    "plt.ylabel('città/attrazione corrette')\n",
    "plt.grid(True)\n",
    "plt.show()"
   ]
  },
  {
   "cell_type": "code",
   "execution_count": 12,
   "id": "60aef5a1",
   "metadata": {},
   "outputs": [],
   "source": [
    "#per ogni immagine risposte corrette città, città/attrazione\n",
    "def corretteImmagine(file,lista):\n",
    "    \"\"\" Costruisci e restituisci i 3 arrays\n",
    "    \"\"\"\n",
    "    n=len(lista)\n",
    "    x=np.arange(n)\n",
    "    y1=np.zeros(n)\n",
    "    y2=np.zeros(n)\n",
    "    \n",
    "    f=open(file,'r',encoding='UTF-8')\n",
    "    for riga in f:\n",
    "        riga=riga.strip().split(',') \n",
    "        cittaCorretta=riga[1]\n",
    "        cittaScelta=riga[4]\n",
    "        attrCorretta=riga[2]\n",
    "        attrScelta=riga[5]\n",
    "        immagine=riga[3]\n",
    "        if cittaCorretta==cittaScelta:\n",
    "            y1[lista.index(immagine)]+=1\n",
    "        if cittaCorretta==cittaScelta and attrCorretta==attrScelta:\n",
    "            y2[lista.index(immagine)]+=1\n",
    "    f.close()\n",
    "    return x,y1,y2"
   ]
  },
  {
   "cell_type": "code",
   "execution_count": 13,
   "id": "0058825e",
   "metadata": {},
   "outputs": [
    {
     "data": {
      "image/png": "[encoded data removed]",
      "text/plain": [
       "<Figure size 432x288 with 1 Axes>"
      ]
     },
     "metadata": {
      "needs_background": "light"
     },
     "output_type": "display_data"
    }
   ],
   "source": [
    "x,y1,y2 = corretteImmagine('risposte.csv',tutteImmagini)\n",
    "# Eseguite il plot delle 2 funzioni.\n",
    "# Disegnate la y1 in blue tratteggiato (b--) e\n",
    "# la y2 in rosso trattegggiato (r--)\n",
    "plt.plot(x,y1,'b--',x,y2,'r--')\n",
    "plt.ylabel('risposte esatte')\n",
    "plt.show()"
   ]
  },
  {
   "cell_type": "code",
   "execution_count": null,
   "id": "c3d43e9c",
   "metadata": {},
   "outputs": [],
   "source": []
  }
 ],
 "metadata": {
  "kernelspec": {
   "display_name": "Python 3 (ipykernel)",
   "language": "python",
   "name": "python3"
  },
  "language_info": {
   "codemirror_mode": {
    "name": "ipython",
    "version": 3
   },
   "file_extension": ".py",
   "mimetype": "text/x-python",
   "name": "python",
   "nbconvert_exporter": "python",
   "pygments_lexer": "ipython3",
   "version": "3.9.7"
  }
 },
 "nbformat": 4,
 "nbformat_minor": 5
}
